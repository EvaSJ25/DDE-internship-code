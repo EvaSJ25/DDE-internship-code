{
 "cells": [
  {
   "cell_type": "markdown",
   "id": "94fade51",
   "metadata": {},
   "source": [
    "## Neuron example - 2+ delays"
   ]
  },
  {
   "cell_type": "code",
   "execution_count": null,
   "id": "a584c15a",
   "metadata": {},
   "outputs": [],
   "source": [
    "using CairoMakie\n",
    "using LinearAlgebra\n",
    "include(\"mackeyglassfunc.jl\") #system of Mackey-Glass equation\n",
    "include(\"mackeytau.jl\") #Delay forumla for Mackey-Glass equation\n",
    "include(\"f_deriv.jl\") #used to find state and/or parameter derivatives\n",
    "include(\"jacobian_new.jl\") #Jacobian function\n",
    "include(\"newton_new.jl\") #Newton function\n",
    "include(\"F_eq.jl\") #Initialisates a function to find equilibria \n",
    "include(\"track_curve_new.jl\") #Tracking curve function (used for continuation and equilibria branches)\n",
    "include(\"stab_func.jl\")"
   ]
  }
 ],
 "metadata": {
  "kernelspec": {
   "display_name": "Julia 1.11.6",
   "language": "julia",
   "name": "julia-1.11"
  },
  "language_info": {
   "file_extension": ".jl",
   "mimetype": "application/julia",
   "name": "julia",
   "version": "1.11.6"
  }
 },
 "nbformat": 4,
 "nbformat_minor": 5
}
