{
 "cells": [
  {
   "cell_type": "markdown",
   "id": "7a3780bd",
   "metadata": {},
   "source": [
    "## Single delayed inverted pendulum example"
   ]
  },
  {
   "cell_type": "markdown",
   "id": "d24de573",
   "metadata": {},
   "source": [
    "The parameters: tau=sqrt(2)/4 and b=1.5 (fixed). Parameter 'a' is varied."
   ]
  },
  {
   "cell_type": "code",
   "execution_count": null,
   "id": "af26b77b",
   "metadata": {},
   "outputs": [],
   "source": [
    "using CairoMakie\n",
    "using LinearAlgebra\n",
    "include(\"invpend_1delay.jl\") #RHS of single delay inverted pendulum example\n",
    "include(\"inpend1tau.jl\") #Delay function for inverted pendulum example\n",
    "include(\"f_deriv.jl\") #used to find state and/or parameter derivatives\n",
    "include(\"jacobian_new.jl\") #Jacobian function\n",
    "include(\"newton_new.jl\") #Newton function\n",
    "include(\"F_eq.jl\") #Initialisates a function to find equilibria \n",
    "include(\"track_curve_new.jl\") #Tracking curve function (used for continuation and equilibria branches)\n",
    "include(\"stab_func.jl\") #finds stability and eigenvalues (and eigenvector and ω is interested in Hopf bifurcation)"
   ]
  },
  {
   "cell_type": "code",
   "execution_count": null,
   "id": "fb745fe6",
   "metadata": {},
   "outputs": [],
   "source": [
    "a=0.0 #parameter a - starts at 0 as this is the parameter we're varying over\n",
    "b=1.5 #parameter b - fixed \n",
    "tau=sqrt(2)/4 #delay τ\n",
    "nd=1 #number of delays (single delay so nd=1)\n",
    "\n",
    "#Now we looking at finding the equilibria branches\n",
    "y01,f_equ=F_eq(invpend_1delay,[0.0,0],[a,b,tau],nd,par_indx=1)#nd=1,pars_indx=1 as parameter a (the parameter we're varying) is the first parameter\n",
    "#The above ouputs the initial guess for x,v and parameter 'a' and the equilibrium function\n",
    "\n",
    "ylist1,ytan1=track_curve_new(f_equ,y01,[0.0,0,1],nmax=1000) #initial tangent changes a (initial tangent=[0.0,0,1])\n",
    "ylist2,ytan2=track_curve_new(f_equ,y01,[1.0,0,0],nmax=400) #initial tangent changes x with initial tangent in postive x direction\n",
    "ylist3,ytan3=track_curve_new(f_equ,y01,[-1.0,0,0],nmax=400) #initial tangent changes x with initial tangent in negative x direction\n",
    "\n",
    "\n",
    "fig1=Figure()\n",
    "ax1=Axis(fig1[1,1],xlabel=\"a\",ylabel=\"x\")\n",
    "scatter!(ax1,[u[3] for u in ylist1],[u[1] for u in ylist1])\n",
    "scatter!(ax1,[u[3] for u in ylist2],[u[1] for u in ylist2])\n",
    "scatter!(ax1,[u[3] for u in ylist3],[u[1] for u in ylist3])\n",
    "xlims!(ax1,[0.0,2.5])\n",
    "fig1"
   ]
  },
  {
   "cell_type": "markdown",
   "id": "62c92adb",
   "metadata": {},
   "source": [
    "# Stability"
   ]
  },
  {
   "cell_type": "code",
   "execution_count": null,
   "id": "a90ae648",
   "metadata": {},
   "outputs": [],
   "source": [
    "#Check that the outputs are equilibria \n",
    "u0ex1=ylist2[5][1:2] #equilibrium point values for x value\n",
    "pex1=ylist2[5][3]# (varied) parameter - in this case a - that allows for u0ex1 to be an equilibrium point\n",
    "u0vec1=[ylist2[5][1:2] for _ in 1:2]\n",
    "invpend_1delay(u0vec1,[ylist2[5][3],b,tau]) #check this outputs 0's (it should as u0ex1 is an equilibrium point)"
   ]
  },
  {
   "cell_type": "code",
   "execution_count": null,
   "id": "89f9557e",
   "metadata": {},
   "outputs": [],
   "source": [
    "#Now we look at stability of the steady-state branches\n",
    "xmat1=hcat([u[1] for u in ylist1],[u[2] for u in ylist1])\n",
    "xlist1=[xmat1[i,:] for i in 1:size(xmat1,1)]\n",
    "xmat2=hcat([u[1] for u in ylist2],[u[2] for u in ylist2])\n",
    "xlist2=[xmat2[i,:] for i in 1:size(xmat2,1)]\n",
    "xmat3=hcat([u[1] for u in ylist3],[u[2] for u in ylist3])\n",
    "xlist3=[xmat3[i,:] for i in 1:size(xmat3,1)]\n",
    "\n",
    "plist1=[u[3] for u in ylist1]\n",
    "plist2=[u[3] for u in ylist2]\n",
    "plist3=[u[3] for u in ylist3]\n",
    "\n",
    "xlist=vcat(xlist1,xlist2,xlist3)\n",
    "plist=vcat(plist1,plist2,plist3)\n",
    "\n",
    "neq=length(plist) #number of equilibrium points we're finding the stability of\n",
    "stab=fill(NaN,neq)\n",
    "\n",
    "for i in 1:neq\n",
    "    stab[i]=stab_func(invpend_1delay,inpend1tau,xlist[i],[plist[i]],[a,b,tau],[1],nd,doprint=0)\n",
    "end \n",
    "\n",
    "\n",
    "stable=(stab.==1.0)\n",
    "unstable=(stab.==0.0)\n",
    "\n",
    "fig2=Figure()\n",
    "ax2=Axis(fig2[1,1],xlabel=\"a\",ylabel=\"x\")\n",
    "scatter!(ax2,plist[stable],[u[1] for u in xlist[stable]],label=\"stable\",color=\"green\")\n",
    "scatter!(ax2,plist[unstable],[u[1] for u in xlist[unstable]],label=\"unstable\",color=\"red\")\n",
    "Legend(fig2[1,2], ax2, merge=true)\n",
    "fig2"
   ]
  },
  {
   "cell_type": "markdown",
   "id": "972ec6c0",
   "metadata": {},
   "source": [
    "# Hopf Bifurcation"
   ]
  },
  {
   "cell_type": "code",
   "execution_count": null,
   "id": "85cc51f2",
   "metadata": {
    "vscode": {
     "languageId": "julia"
    }
   },
   "outputs": [],
   "source": [
    "stab_indx=findfirst(isequal(1.0),stab)#finds where stability changes first time\n",
    "unstab2_indx=findfirst(isequal(0.0),stab[101:end]) # finds where stability changes again \n",
    "hopf_indx=stab_indx+unstab2_indx #index of where hopf bifurcation is\n",
    "plist[hopf_indx] #parameter guess for hopf bifurcation"
   ]
  },
  {
   "cell_type": "code",
   "execution_count": null,
   "id": "d2d0e31f",
   "metadata": {
    "vscode": {
     "languageId": "julia"
    }
   },
   "outputs": [],
   "source": [
    "include(\"create_hopffunc.jl\")\n",
    "yh01,fhopf=create_hopffunc(invpend_1delay,inpend1tau,[a,b,tau],xlist[hopf_indx],[plist[hopf_indx]],[1],nd)\n",
    "println(\"The initial guess for Hopf info: $yh01\")\n",
    "yh1,conv1,=newton_new(fhopf,yh01)\n",
    "println(\"The true information for the Hopf bifurcation: $yh1\")\n",
    "println(\"converged?: $conv1\")\n",
    "a_hopf=yh1[end]\n",
    "om_hopf=yh1[end-1]\n",
    "x_hopf=yh1[1]\n",
    "println(\"The a value for hopf bifurcation: $a_hopf\")\n",
    "println(\"The ω value for hopf bifurcation: $om_hopf\") #1.8910.. which is about 0.6π"
   ]
  },
  {
   "cell_type": "code",
   "execution_count": null,
   "id": "b7a8a5dc",
   "metadata": {
    "vscode": {
     "languageId": "julia"
    }
   },
   "outputs": [],
   "source": [
    "yheq01,fhopfeq1=create_hopffunc(invpend_1delay,inpend1tau,[a_hopf,0,tau],[0.0,0],[a_hopf,0],[1,2],nd)\n",
    "yheqlist1,heqtan1=track_curve_new(fhopfeq1,yheq01,[0.0,0,0,0,0,0,0,-1,-1],nmax=2000)\n",
    "\n",
    "#Below marks the Hopf bifurcation for fixed b=1.5\n",
    "a_vals=[u[end-1] for u in yheqlist1]\n",
    "b_vals=[u[end] for u in yheqlist1]\n",
    "b1_5indx=argmin(abs.([u[end] for u in yheqlist1].-1.5))\n",
    "\n",
    "a1=a_vals[b1_5indx]\n",
    "b1=b_vals[b1_5indx]\n",
    "\n",
    "#Plot of continuation/tracking in (a,b) plane\n",
    "fig4=Figure()\n",
    "ax4=Axis(fig4[1,1],xlabel=\"a\",ylabel=\"b\")\n",
    "scatter!(ax4,[u[end-1] for u in yheqlist1[2:end]],[u[end] for u in yheqlist1[2:end]],color=\"green\",markersize=:7)\n",
    "hlines!(ax4,1.5,linestyle=:dash)\n",
    "scatter!(ax4,a1,b1,marker=:diamond,color=:black)\n",
    "vlines!(ax4,1,linestyle=:solid, linewidth=:5,color=:red)\n",
    "ylims!(ax4,[0,6])\n",
    "fig4"
   ]
  }
 ],
 "metadata": {
  "language_info": {
   "name": "python"
  }
 },
 "nbformat": 4,
 "nbformat_minor": 5
}
