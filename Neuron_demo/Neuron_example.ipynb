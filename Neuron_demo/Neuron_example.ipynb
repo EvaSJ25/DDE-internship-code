{
 "cells": [
  {
   "cell_type": "markdown",
   "id": "94fade51",
   "metadata": {},
   "source": [
    "## Neuron example - 2+ delays"
   ]
  },
  {
   "cell_type": "markdown",
   "id": "79969f81",
   "metadata": {},
   "source": [
    "In this example the delay differential equation (DDE) system is used to model the interaction between two neurons, x₁ and x₂. The DDE system is given by:\n",
    "```math\n",
    "\\begin{align}\n",
    "  \\dot{x}_1&= -\\kappa x_1(t) + \\beta \\tanh(x_1(t-\\tau_s)) + a_{12} \\tanh(x_2(t-\\tau_2))\\\\\n",
    "  \\dot{x}_2&=-\\kappa x_2(t) + \\beta \\tanh(x_2(t-\\tau_s)) + a_{21} \\tanh(x_2(t-\\tau_1))\n",
    "\\end{align}\n",
    "```\n",
    "where τ₁ and τ₂ are the delays between neurons 1 and 2, respectively, getting a stimulus and reacting to the stimulus and where τ_s is the delay between neuron 1 reacting and neuron 2 getting stimulated by neuron 1's reaction."
   ]
  },
  {
   "cell_type": "markdown",
   "id": "936f26f8",
   "metadata": {},
   "source": [
    "The following packages and functions are needed:"
   ]
  },
  {
   "cell_type": "code",
   "execution_count": 12,
   "id": "a584c15a",
   "metadata": {},
   "outputs": [
    {
     "data": {
      "text/plain": [
       "create_hopffunc (generic function with 1 method)"
      ]
     },
     "metadata": {},
     "output_type": "display_data"
    }
   ],
   "source": [
    "using CairoMakie\n",
    "using LinearAlgebra\n",
    "include(\"neuronfunc.jl\") #system of neuron example\n",
    "include(\"neurontau.jl\") #Delay forumla for neuron example\n",
    "include(\"../shared/f_deriv.jl\") #used to find state and/or parameter derivatives\n",
    "include(\"../shared/jacobian_new.jl\") #Jacobian function\n",
    "include(\"../shared/newton_new.jl\") #Newton function\n",
    "include(\"../shared/F_eq.jl\") #Initialisates a function to find equilibria \n",
    "include(\"../shared/track_curve_new.jl\") #Tracking curve function (used for continuation and equilibria branches)\n",
    "include(\"../shared/stab_func.jl\")#finds stability and eigenvalues (and eigenvector and ω is interested in Hopf bifurcation)\n",
    "include(\"../shared/create_hopffunc.jl\")#finds initial guess for Hopf information and creates a function that can find the true Hopf values"
   ]
  },
  {
   "cell_type": "code",
   "execution_count": 13,
   "id": "9fc884f3",
   "metadata": {},
   "outputs": [
    {
     "data": {
      "text/plain": [
       "([0.0, 0.0, 2.34], var\"#f_equilibrium#29\"{Int64, typeof(neuronfunc), Vector{Float64}, Int64, Int64}(4, Main.neuronfunc, [0.5, -1.0, 1.0, 2.34, 0.2, 0.2, 1.5], 3, 2))"
      ]
     },
     "metadata": {},
     "output_type": "display_data"
    }
   ],
   "source": [
    "#Values of parameters (same as those given in the neuron demo for DDE-Biftool)\n",
    "k=0.5\n",
    "beta=-1\n",
    "a12=1\n",
    "a21=2.34 \n",
    "tau1=0.2\n",
    "tau2=0.2\n",
    "taus=1.5\n",
    "\n",
    "nd=3 #there are 3 delays\n",
    "y01,feq=F_eq(neuronfunc,[0.0,0],[k,beta,a12,a21,tau1,tau2,taus], nd, par_indx=4)#varying paramter a21 so parameter index is 4\n",
    "#The above outputs an initial equilibirium and a function to find the equilibria"
   ]
  },
  {
   "cell_type": "code",
   "execution_count": 14,
   "id": "23a36df6",
   "metadata": {},
   "outputs": [
    {
     "data": {
      "text/plain": [
       "2-element Vector{Float64}:\n",
       " 0.0\n",
       " 0.0"
      ]
     },
     "metadata": {},
     "output_type": "display_data"
    }
   ],
   "source": [
    "#check equilibrium (f(x*,...,x*)=0)\n",
    "xvec=[fill(0.0,2) for _ in 1:nd+1]\n",
    "neuronfunc(xvec,[k,beta,a12,a21,tau1,tau2,taus])"
   ]
  },
  {
   "cell_type": "markdown",
   "id": "8dbac70a",
   "metadata": {},
   "source": [
    "# Equilibria branch and stability"
   ]
  },
  {
   "cell_type": "markdown",
   "id": "7c7f7c1a",
   "metadata": {},
   "source": [
    "Finding the stability of equilibiria of DDEs is more complex than finding the stability of equilibria of ODEs due to the infinite dimensional past. For this example the stability was found by using a large matrix that can be used to create a finite-dimensional system that can approximate the stability of the equilibria. The function ``` stab_func ``` has a first output of 1 is the equilibrium point if stable and has 0 if it is unstable. Below we find the stability of one equilibrium point:"
   ]
  },
  {
   "cell_type": "code",
   "execution_count": 15,
   "id": "5f278333",
   "metadata": {},
   "outputs": [
    {
     "name": "stdout",
     "output_type": "stream",
     "text": [
      "The stability is: 0\n",
      "The eigenvalues are: ComplexF64[-968.7660348034071 + 0.0im, -968.5375195436628 - 14.653396899307069im, -968.5375195436628 + 14.653396899307069im, -967.8521945592739 - 29.292579296872145im, -967.8521945592739 + 29.292579296872145im, -966.710722020216 - 43.903346422597444im, -966.710722020216 + 43.903346422597444im, -965.1142048297761 - 58.47152495663181im, -965.1142048297761 + 58.47152495663181im, -963.0641855544266 - 72.9829827208269im, -963.0641855544266 + 72.9829827208269im, -960.5626449278141 - 87.42364233091526im, -960.5626449278141 + 87.42364233091526im, -957.6119999296247 - 101.77949479477547im, -957.6119999296247 + 101.77949479477547im, -954.2151014409508 - 116.03661304497504im, -954.2151014409508 + 116.03661304497504im, -950.3752314791366 - 130.1811653914015im, -950.3752314791366 + 130.1811653914015im, -946.0961000139373 - 144.19942888147452im, -946.0961000139373 + 144.19942888147452im, -941.381841368752 - 158.07780255470982im, -941.381841368752 + 158.07780255470982im, -936.2370102097368 - 171.80282057898646im, -936.2370102097368 + 171.80282057898646im, -930.6665771271682 - 185.36116525560018im, -930.6665771271682 + 185.36116525560018im, -924.6759238127682 - 198.7396798803291im, -924.6759238127682 + 198.7396798803291im, -918.2708378382408 - 211.92538144843581im, -918.2708378382408 + 211.92538144843581im, -911.4575070392594 - 224.90547319077828im, -911.4575070392594 + 224.90547319077828im, -904.2425135108626 - 237.66735692940068im, -904.2425135108626 + 237.66735692940068im, -896.6328272196918 - 250.19864523976295im, -896.6328272196918 + 250.19864523976295im, -888.6357992389742 - 262.48717340874384im, -888.6357992389742 + 262.48717340874384im, -880.2591546135084 - 274.5210111759918im, -880.2591546135084 + 274.5210111759918im, -871.5109848602124 - 286.2884742474981im, -871.5109848602124 + 286.2884742474981im, -862.3997401124091 - 297.77813557050143im, -862.3997401124091 + 297.77813557050143im, -852.9342209148671 - 308.9788363578453im, -852.9342209148671 + 308.9788363578453im, -843.1235696772662 - 319.87969685199147im, -843.1235696772662 + 319.87969685199147im, -832.9772617946434 - 330.4701268176579im, -832.9772617946434 + 330.4701268176579im, -822.5050964426262 - 340.7398357527953im, -822.5050964426262 + 340.7398357527953im, -811.7171870566206 - 350.67884280815184im, -811.7171870566206 + 350.67884280815184im, -800.623951503816 - 360.2774864054972im, -800.623951503816 + 360.2774864054972im, -789.236101957146 - 369.526433545141im, -789.236101957146 + 369.526433545141im, -777.5646344808954 - 378.4166887936927im, -777.5646344808954 + 378.4166887936927im, -765.620818337601 - 386.9396029429681im, -765.620818337601 + 386.9396029429681im, -753.4161850262976 - 395.08688133160285im, -753.4161850262976 + 395.08688133160285im, -740.9625170624356 - 402.850591821352im, -740.9625170624356 + 402.850591821352im, -728.2718365097293 - 410.22317241961593im, -728.2718365097293 + 410.22317241961593im, -715.3563932748459 - 417.19743854124556im, -715.3563932748459 + 417.19743854124556im, -702.2286531754478 - 423.76658990166226im, -702.2286531754478 + 423.76658990166226im, -688.9012857927631 - 429.9242170350199im, -688.9012857927631 + 429.9242170350199im, -675.3871521200192 - 435.6643074302482im, -675.3871521200192 + 435.6643074302482im, -661.6992920173363 - 440.9812512788837im, -661.6992920173363 + 440.9812512788837im, -647.8509114853346 - 445.86984682901806im, -647.8509114853346 + 445.86984682901806im, -633.8553697681942 - 450.3253053392814im, -633.8553697681942 + 450.3253053392814im, -619.7261662980243 - 454.3432556279994im, -619.7261662980243 + 454.3432556279994im, -605.4769274920334 - 457.9197482123889im, -605.4769274920334 + 457.9197482123889im, -591.1213934141099 - 461.05125903344185im, -591.1213934141099 + 461.05125903344185im, -576.6734043121683 - 463.7346927618922im, -576.6734043121683 + 463.7346927618922im, -562.146887042974 - 465.96738568183105im, -562.146887042974 + 465.96738568183105im, -547.5558413958336 - 467.7471081478343im, -547.5558413958336 + 467.7471081478343im, -532.9143263262233 - 469.07206661297164im, -532.9143263262233 + 469.07206661297164im, -518.2364461106008 - 469.9409052241303im, -518.2364461106008 + 469.9409052241303im, -503.53633643328703 - 470.35270698230744im, -503.53633643328703 + 470.35270698230744im, -500.0 + 0.0im, -500.0 + 0.0im, -500.0 + 0.0im, -500.0 + 0.0im, -500.0 + 0.0im, -500.0 + 0.0im, -500.0 + 0.0im, -500.0 + 0.0im, -500.0 + 0.0im, -500.0 + 0.0im, -500.0 + 0.0im, -500.0 + 0.0im, -500.0 + 0.0im, -500.0 + 0.0im, -500.0 + 0.0im, -500.0 + 0.0im, -500.0 + 0.0im, -500.0 + 0.0im, -500.0 + 0.0im, -500.0 + 0.0im, -500.0 + 0.0im, -500.0 + 0.0im, -500.0 + 0.0im, -500.0 + 0.0im, -500.0 + 0.0im, -500.0 + 0.0im, -500.0 + 0.0im, -500.0 + 0.0im, -500.0 + 0.0im, -500.0 + 0.0im, -500.0 + 0.0im, -500.0 + 0.0im, -500.0 + 0.0im, -500.0 + 0.0im, -500.0 + 0.0im, -500.0 + 0.0im, -500.0 + 0.0im, -500.0 + 0.0im, -500.0 + 0.0im, -500.0 + 0.0im, -500.0 + 0.0im, -500.0 + 0.0im, -500.0 + 0.0im, -500.0 + 0.0im, -500.0 + 0.0im, -500.0 + 0.0im, -500.0 + 0.0im, -500.0 + 0.0im, -500.0 + 0.0im, -500.0 + 0.0im, -500.0 + 0.0im, -500.0 + 0.0im, -500.0 + 0.0im, -500.0 + 0.0im, -500.0 + 0.0im, -500.0 + 0.0im, -500.0 + 0.0im, -500.0 + 0.0im, -500.0 + 0.0im, -500.0 + 0.0im, -500.0 + 0.0im, -500.0 + 0.0im, -500.0 + 0.0im, -500.0 + 0.0im, -500.0 + 0.0im, -500.0 + 0.0im, -500.0 + 0.0im, -500.0 + 0.0im, -500.0 + 0.0im, -500.0 + 0.0im, -500.0 + 0.0im, -500.0 + 0.0im, -500.0 + 0.0im, -500.0 + 0.0im, -500.0 + 0.0im, -500.0 + 0.0im, -500.0 + 0.0im, -500.0 + 0.0im, -500.0 + 0.0im, -500.0 + 0.0im, -500.0 + 0.0im, -500.0 + 0.0im, -500.0 + 0.0im, -500.0 + 0.0im, -500.0 + 0.0im, -500.0 + 0.0im, -500.0 + 0.0im, -500.0 + 0.0im, -500.0 + 0.0im, -500.0 + 0.0im, -500.0 + 0.0im, -500.0 + 0.0im, -500.0 + 0.0im, -500.0 + 0.0im, -500.0 + 0.0im, -500.0 + 0.0im, -500.0 + 0.0im, -500.0 + 0.0im, -500.0 + 0.0im, -500.0 + 0.0im, -500.0 + 0.0im, -500.0 + 0.0im, -500.0 + 0.0im, -500.0 + 0.0im, -500.0 + 0.0im, -500.0 + 0.0im, -500.0 + 0.0im, -500.0 + 0.0im, -500.0 + 0.0im, -500.0 + 0.0im, -500.0 + 0.0im, -500.0 + 0.0im, -500.0 + 0.0im, -500.0 + 0.0im, -500.0 + 0.0im, -500.0 + 0.0im, -500.0 + 0.0im, -500.0 + 0.0im, -500.0 + 0.0im, -500.0 + 0.0im, -500.0 + 0.0im, -500.0 + 0.0im, -500.0 + 0.0im, -500.0 + 0.0im, -500.0 + 0.0im, -500.0 + 0.0im, -500.0 + 0.0im, -500.0 + 0.0im, -500.0 + 0.0im, -500.0 + 0.0im, -500.0 + 0.0im, -500.0 + 0.0im, -500.0 + 0.0im, -500.0 + 0.0im, -500.0 + 0.0im, -500.0 + 0.0im, -500.0 + 0.0im, -500.0 + 0.0im, -500.0 + 0.0im, -500.0 + 0.0im, -500.0 + 0.0im, -500.0 + 0.0im, -500.0 + 0.0im, -500.0 + 0.0im, -500.0 + 0.0im, -500.0 + 0.0im, -500.0 + 0.0im, -500.0 + 0.0im, -500.0 + 0.0im, -500.0 + 0.0im, -500.0 + 0.0im, -500.0 + 0.0im, -500.0 + 0.0im, -500.0 + 0.0im, -500.0 + 0.0im, -500.0 + 0.0im, -500.0 + 0.0im, -500.0 + 0.0im, -500.0 + 0.0im, -500.0 + 0.0im, -500.0 + 0.0im, -500.0 + 0.0im, -500.0 + 0.0im, -500.0 + 0.0im, -500.0 + 0.0im, -500.0 + 0.0im, -500.0 + 0.0im, -500.0 + 0.0im, -500.0 + 0.0im, -500.0 + 0.0im, -500.0 + 0.0im, -500.0 + 0.0im, -500.0 + 0.0im, -500.0 + 0.0im, -500.0 + 0.0im, -500.0 + 0.0im, -500.0 + 0.0im, -500.0 + 0.0im, -500.0 + 0.0im, -500.0 + 0.0im, -500.0 + 0.0im, -500.0 + 0.0im, -500.0 + 0.0im, -500.0 + 0.0im, -500.0 + 0.0im, -500.0 + 0.0im, -500.0 + 0.0im, -500.0 + 0.0im, -500.0 + 0.0im, -500.0 + 0.0im, -500.0 + 0.0im, -500.0 + 0.0im, -500.0 + 0.0im, -500.0 + 0.0im, -500.0 + 0.0im, -500.0 + 0.0im, -500.0 + 0.0im, -500.0 + 0.0im, -500.0 + 0.0im, -500.0 + 0.0im, -488.8281504158725 - 470.30699446540905im, -488.8281504158725 + 470.30699446540905im, -474.12604459947426 - 469.80373011139466im, -474.12604459947426 + 469.80373011139466im, -459.4441648895543 - 468.8433160596664im, -459.4441648895543 + 468.8433160596664im, -444.79663247254484 - 467.42659354938615im, -444.79663247254484 + 467.42659354938615im, -430.197529713084 - 465.5548418726066im, -430.197529713084 + 465.5548418726066im, -415.6608860392804 - 463.2297768811505im, -415.6608860392804 + 463.2297768811505im, -401.2006638235308 - 460.45354904568677im, -401.2006638235308 + 460.45354904568677im, -386.8307442643227 - 457.2287410654685im, -386.8307442643227 + 457.2287410654685im, -372.5649132737864 - 453.55836502752675im, -372.5649132737864 + 453.55836502752675im, -358.4168473739119 - 449.4458591132094im, -358.4168473739119 + 449.4458591132094im, -344.4000996026084 - 444.8950838504249im, -344.4000996026084 + 444.8950838504249im, -330.528085428597 - 439.9103179088651im, -330.528085428597 + 439.9103179088651im, -316.81406867106773 - 434.49625343524445im, -316.81406867106773 + 434.49625343524445im, -303.27114741717816 - 428.6579909245187im, -303.27114741717816 + 428.6579909245187im, -289.9122399260923 - 422.40103362190735im, -289.9122399260923 + 422.40103362190735im, -276.7500705035148 - 415.7312814491632im, -276.7500705035148 + 415.7312814491632im, -263.7971553245279 - 408.6550244464079im, -263.7971553245279 + 408.6550244464079im, -251.0657881748714 - 401.1789357184484im, -251.0657881748714 + 401.1789357184484im, -238.56802607166338 - 393.31006387110614im, -238.56802607166338 + 393.31006387110614im, -226.31567471249332 - 385.05582491889027im, -226.31567471249332 + 385.05582491889027im, -214.32027368690171 - 376.4239936400001im, -214.32027368690171 + 376.4239936400001im, -202.5930813653799 - 367.42269434729747im, -202.5930813653799 + 367.42269434729747im, -191.1450593563237 - 358.06039103483397im, -191.1450593563237 + 358.06039103483397im, -179.9868563898579 - 348.345876847208im, -179.9868563898579 + 348.345876847208im, -169.12879144593796 - 338.28826280299756im, -169.12879144593796 + 338.28826280299756im, -158.58083588954773 - 327.8969656819538im, -158.58083588954773 + 327.8969656819538im, -148.35259430293 - 317.1816949567666im, -148.35259430293 + 317.1816949567666im, -138.4532836067258 - 306.1524386107675im, -138.4532836067258 + 306.1524386107675im, -128.89170992800513 - 294.81944762873303im, -128.89170992800513 + 294.81944762873303im, -119.67624248841102 - 283.1932188721191im, -119.67624248841102 + 283.1932188721191im, -117.45578410995188 + 0.0im, -117.43940533479184 - 1.408621512016432im, -117.43940533479184 + 1.408621512016432im, -117.38821304935674 - 2.816165031926969im, -117.38821304935674 + 2.816165031926969im, -117.30363431919939 - 4.223590255500046im, -117.30363431919939 + 4.223590255500046im, -117.18517222616013 - 5.628445149432178im, -117.18517222616013 + 5.628445149432178im, -117.03227027980496 - 7.031950052262178im, -117.03227027980496 + 7.031950052262178im, -116.84611245746362 - 8.432428464155926im, -116.84611245746362 + 8.432428464155926im, -116.62522680454477 - 9.829656791046785im, -116.62522680454477 + 9.829656791046785im, -116.37076253887889 - 11.223465955240028im, -116.37076253887889 + 11.223465955240028im, -116.08196078744055 - 12.612529875944952im, -116.08196078744055 + 12.612529875944952im, -115.75893174345273 - 13.997094662161716im, -115.75893174345273 + 13.997094662161716im, -115.40178870876781 - 15.37597460712162im, -115.40178870876781 + 15.37597460712162im, -115.01011927822223 - 16.748891981112013im, -115.01011927822223 + 16.748891981112013im, -114.58414069595855 - 18.11515542471038im, -114.58414069595855 + 18.11515542471038im, -114.1235877707899 - 19.474108152730345im, -114.1235877707899 + 19.474108152730345im, -113.62845972340216 - 20.82516871515512im, -113.62845972340216 + 20.82516871515512im, -113.09863846724832 - 22.167676738318423im, -113.09863846724832 + 22.167676738318423im, -112.53406239874037 - 23.5009636013145im, -112.53406239874037 + 23.5009636013145im, -111.93458354777057 - 24.824368740630927im, -111.93458354777057 + 24.824368740630927im, -111.30015862734479 - 26.137199886320584im, -111.30015862734479 + 26.137199886320584im, -110.81478352695476 - 271.28447594304026im, -110.81478352695476 + 271.28447594304026im, -110.63063518167738 - 27.438708463921824im, -110.63063518167738 + 27.438708463921824im, -109.92594112061641 - 28.728190312939663im, -109.92594112061641 + 28.728190312939663im, -109.18597323892484 - 30.004842199298384im, -109.18597323892484 + 30.004842199298384im, -108.41063490999478 - 31.26789611642868im, -108.41063490999478 + 31.26789611642868im, -107.59984367842658 - 32.516525299143616im, -107.59984367842658 + 32.516525299143616im, -106.75352146421358 - 33.74989452156069im, -106.75352146421358 + 33.74989452156069im, -105.87159003196241 - 34.96712619772603im, -105.87159003196241 + 34.96712619772603im, -104.95399254062545 - 36.167339852011736im, -104.95399254062545 + 36.167339852011736im, -104.00067887874326 - 37.34959270758407im, -104.00067887874326 + 37.34959270758407im, -103.01160107016943 - 38.51294832284786im, -103.01160107016943 + 38.51294832284786im, -102.31473290439274 - 259.1041474869427im, -102.31473290439274 + 259.1041474869427im, -101.9867494672555 - 39.65641121706849im, -101.9867494672555 + 39.65641121706849im, -100.92609953569848 - 40.77896841917715im, -100.92609953569848 + 40.77896841917715im, -99.82967615619921 - 41.87957421307516im, -99.82967615619921 + 41.87957421307516im, -98.697502224553 - 42.95713886048149im, -98.697502224553 + 42.95713886048149im, -97.5296384941822 - 44.010554408279745im, -97.5296384941822 + 44.010554408279745im, -96.32616691684925 - 45.038663314120825im, -96.32616691684925 + 45.038663314120825im, -95.08719777728666 - 46.04028555319099im, -95.08719777728666 + 46.04028555319099im, -94.18294550488905 - 246.66334215835275im, -94.18294550488905 + 246.66334215835275im, -93.81287675963928 - 47.01419847606996im, -93.81287675963928 + 47.01419847606996im, -92.50338024313768 - 47.959148130834954im, -92.50338024313768 + 47.959148130834954im, -91.15892576322892 - 48.87384453288718im, -91.15892576322892 + 48.87384453288718im, -89.77977005773616 - 49.75696172950392im, -89.77977005773616 + 49.75696172950392im, -88.36621517753915 - 50.60714143497066im, -88.36621517753915 + 50.60714143497066im, -86.91861135898958 - 51.42298783238824im, -86.91861135898958 + 51.42298783238824im, -86.42567876980219 - 233.97331913739941im, -86.42567876980219 + 233.97331913739941im, -85.43735982679324 - 52.20307659560345im, -85.43735982679324 + 52.20307659560345im, -83.92291811628354 - 52.945944196614754im, -83.92291811628354 + 52.945944196614754im, -82.37580233658161 - 53.650105763231196im, -82.37580233658161 + 53.650105763231196im, -80.79659186841286 - 54.31403257472422im, -80.79659186841286 + 54.31403257472422im, -79.18593473421379 - 54.93618879586876im, -79.18593473421379 + 54.93618879586876im, -79.04852652652266 - 221.0454525713936im, -79.04852652652266 + 221.0454525713936im, -77.54454660515782 - 55.51498244974486im, -77.54454660515782 + 55.51498244974486im, -75.87322647735562 - 56.04884304233582im, -75.87322647735562 + 56.04884304233582im, -74.17283932321158 - 56.53611331017563im, -74.17283932321158 + 56.53611331017563im, -72.44435716821846 - 56.975217329807414im, -72.44435716821846 + 56.975217329807414im, -72.05633347846415 - 207.8911875146632im, -72.05633347846415 + 207.8911875146632im, -70.68880436209348 - 57.364417766440866im, -70.68880436209348 + 57.364417766440866im, -68.90735125794036 - 57.70218995813025im, -68.90735125794036 + 57.70218995813025im, -67.10118950978935 - 57.98666727842923im, -67.10118950978935 + 57.98666727842923im, -65.453081897987 - 194.52198365503855im, -65.453081897987 + 194.52198365503855im, -65.27171027663937 - 58.216494597900706im, -65.27171027663937 + 58.216494597900706im, -63.42029293223901 - 58.38954144486487im, -63.42029293223901 + 58.38954144486487im, -61.54853425478262 - 58.504878278288416im, -61.54853425478262 + 58.504878278288416im, -59.65810427726087 - 58.55978182078962im, -59.65810427726087 + 58.55978182078962im, -59.24173750021929 - 180.94924099331286im, -59.24173750021929 + 180.94924099331286im, -57.7506150251709 - 58.55429288236612im, -57.7506150251709 + 58.55429288236612im, -55.82846416995849 - 58.48437778172057im, -55.82846416995849 + 58.48437778172057im, -53.89246730907638 - 58.352104850849024im, -53.89246730907638 + 58.352104850849024im, -53.42403386564247 - 167.18419801449713im, -53.42403386564247 + 167.18419801449713im, -51.94727263270609 - 58.150823291293236im, -51.94727263270609 + 58.150823291293236im, -49.99024928692113 - 57.8862477513989im, -49.99024928692113 + 57.8862477513989im, -48.032766150688865 - 57.54757755514472im, -48.032766150688865 + 57.54757755514472im, -48.000161623660766 - 153.23778644307473im, -48.000161623660766 + 153.23778644307473im, -46.061586165070196 - 57.145090009520956im, -46.061586165070196 + 57.145090009520956im, -44.105713625657415 - 56.66503945386517im, -44.105713625657415 + 56.66503945386517im, -42.96830489754117 - 139.12041468843825im, -42.96830489754117 + 139.12041468843825im, -42.12570264634965 - 56.11657492492053im, -42.12570264634965 + 56.11657492492053im, -40.18878296301561 - 55.49741327119227im, -40.18878296301561 + 55.49741327119227im, -38.32392262407568 - 124.84162858985441im, -38.32392262407568 + 124.84162858985441im, -38.20547283683042 - 54.78652769554818im, -38.20547283683042 + 54.78652769554818im, -36.30318036601571 - 54.0450921199345im, -36.30318036601571 + 54.0450921199345im, -34.33429085164213 - 53.13930949933122im, -34.33429085164213 + 53.13930949933122im, -34.058582265979794 - 110.40954900865863im, -34.058582265979794 + 110.40954900865863im, -32.45936409575662 - 52.314552525394475im, -32.45936409575662 + 52.314552525394475im, -30.564109838739604 - 51.17089942684872im, -30.564109838739604 + 51.17089942684872im, -30.157959233670088 - 95.82987520538965im, -30.157959233670088 + 95.82987520538965im, -28.63589429120239 - 50.30416577211726im, -28.63589429120239 + 50.30416577211726im, -26.95234350904758 - 48.9124859718744im, -26.95234350904758 + 48.9124859718744im, -26.59815769331086 - 81.10396850883106im, -26.59815769331086 + 81.10396850883106im, -24.75896943877561 - 47.89824402715749im, -24.75896943877561 + 47.89824402715749im, -23.529459335255005 - 46.42807313748278im, -23.529459335255005 + 46.42807313748278im, -23.338297977332854 - 66.22476013809285im, -23.338297977332854 + 66.22476013809285im, -21.172154481187704 - 44.801863201503295im, -21.172154481187704 + 44.801863201503295im, -20.301081183903957 - 51.16566709605218im, -20.301081183903957 + 51.16566709605218im, -20.29894021420202 - 43.793420500660154im, -20.29894021420202 + 43.793420500660154im, -18.171989763570977 - 41.54907936974274im, -18.171989763570977 + 41.54907936974274im, -17.289610442862 - 41.10684153066588im, -17.289610442862 + 41.10684153066588im, -15.456070054185183 - 38.27580214132858im, -15.456070054185183 + 38.27580214132858im, -14.694958119997509 - 38.4158445897003im, -14.694958119997509 + 38.4158445897003im, -12.955030346797876 - 34.93773570769609im, -12.955030346797876 + 34.93773570769609im, -12.61736310255208 - 35.38712702492886im, -12.61736310255208 + 35.38712702492886im, -10.68663743252996 - 31.936737787892753im, -10.68663743252996 + 31.936737787892753im, -10.665303114682668 - 31.528221418593837im, -10.665303114682668 + 31.528221418593837im, -8.826684935615743 - 28.298087997154948im, -8.826684935615743 + 28.298087997154948im, -8.607650859462076 - 28.057553904790012im, -8.607650859462076 + 28.057553904790012im, -7.101434297963566 - 24.554862307839507im, -7.101434297963566 + 24.554862307839507im, -6.823511594389892 - 24.523526365937734im, -6.823511594389892 + 24.523526365937734im, -5.544060942276262 - 20.732127698514198im, -5.544060942276262 + 20.732127698514198im, -5.339779149261853 - 20.882963314678147im, -5.339779149261853 + 20.882963314678147im, -4.165127419806914 - 16.849233011205648im, -4.165127419806914 + 16.849233011205648im, -4.120561210482247 - 17.09091379918193im, -4.120561210482247 + 17.09091379918193im, -3.1044841931563156 - 13.154788717481324im, -3.1044841931563156 + 13.154788717481324im, -2.96218193505359 - 12.933187854303881im, -2.96218193505359 + 12.933187854303881im, -2.2451177157777473 - 9.102743958254104im, -2.2451177157777473 + 9.102743958254104im, -1.9259125503145418 - 9.031069813016227im, -1.9259125503145418 + 9.031069813016227im, -1.467086312491714 - 4.931329307566334im, -1.467086312491714 + 4.931329307566334im, -1.0607250312936205 - 5.232254248146202im, -1.0607250312936205 + 5.232254248146202im, -0.4709676545343003 - 1.6775217533838767im, -0.4709676545343003 + 1.6775217533838767im, -0.0968461005550756 + 0.0im, 0.3069969848590207 + 0.0im]\n",
      "The unstable eigenvalue 0.3069969848590207 + 0.0im\n"
     ]
    }
   ],
   "source": [
    "#Test stability of initial point (it should be unstable)\n",
    "x0=y01[1:2]\n",
    "p0=y01[3]\n",
    "stabi,eigvalsi,eigvecs1=stab_func(neuronfunc,neurontau,x0,[p0],[k,beta,a12,a21,tau1,tau2,taus],[4],nd,doprint=1)\n",
    "unstabindx=findfirst(isequal(1),real(eigvalsi).>0)\n",
    "unstabeigi=eigvalsi[unstabindx]\n",
    "\n",
    "println(\"The stability is: $stabi\")\n",
    "println(\"The eigenvalues are: $eigvalsi\")\n",
    "println(\"The unstable eigenvalue $unstabeigi\") #this values seems to match that given in DDE-Biftool example"
   ]
  },
  {
   "cell_type": "markdown",
   "id": "4ac5fbd7",
   "metadata": {},
   "source": [
    "We now find the equilibria branch whilst varying the paramete a₂₁ and then find stability of these equilibirium points:"
   ]
  },
  {
   "cell_type": "code",
   "execution_count": null,
   "id": "a1951fbd",
   "metadata": {},
   "outputs": [],
   "source": [
    "y02,feq2=F_eq(neuronfunc,[0.0,0],[k,beta,a12,0,tau1,tau2,taus], nd, par_indx=4) #we set a21 to 0 and finding starting point for equilibria branching\n",
    "alist1,ytan1=track_curve_new(feq2,y02,[0.0,0,1],nmax=550)#tracks equilibria to give equilibria branch\n",
    "\n",
    "xmat1=hcat([u[1] for u in alist1],[u[2] for u in alist1]) #finds the values of x1 and x2 for the equilibria\n",
    "xlist1=[xmat1[i,:] for i in 1:size(xmat1,1)] #creates a vector of vectors of all the equilibria points\n",
    "\n",
    "\n",
    "plist1=[u[3] for u in alist1] #A vector of the values of a21 for the equilibria points\n",
    "\n",
    "m=100 #number of discretised steps\n",
    "n=2 #number of states (x1,x2)\n",
    "neq=length(plist1) #number of equilibrium points we're finding the stability of\n",
    "stab=fill(NaN,neq)\n",
    "eigvals1=[fill(0.0+0.0*im,n*(1+nd*m)) for _ in 1:neq]\n",
    "\n",
    "for i in 1:neq\n",
    "    stab[i],eigvals1[i],=stab_func(neuronfunc,neurontau,xlist1[i],[plist1[i]],[k,beta,a12,a21,tau1,tau2,taus],[4],nd,doprint=1,m=m) #outputs the stability (1 for stable, 0 for unstable) and also gives the eigenvalues for each point\n",
    "end\n",
    "\n",
    "stable=(stab.==1.0) #highlights indices of stable points (indicated by a 1 in stable vector)\n",
    "unstable=(stab.==0.0)#highlights indices of unstable points (indicated by a 1 in unstable vector)\n",
    "\n",
    "#Below plots the equilibria and shows their stability\n",
    "fig1=Figure()\n",
    "ax1=Axis(fig1[1,1],xlabel=\"a₂₁\",ylabel=\"x\")\n",
    "scatter!(ax1,plist1[stable],[u[1] for u in xlist1[stable]],label=\"stable\",color=\"green\")\n",
    "scatter!(ax1,plist1[unstable],[u[1] for u in xlist1[unstable]],label=\"unstable\",color=\"red\")\n",
    "Legend(fig1[1,2], ax1, merge=true)\n",
    "fig1"
   ]
  },
  {
   "cell_type": "code",
   "execution_count": null,
   "id": "ea4aa717",
   "metadata": {},
   "outputs": [],
   "source": [
    "avals=[u[3] for u in alist1] #list of a21  values\n",
    "realeigs=real(eigvals1) #gets real parts of all eigenvalues for each tracked point\n",
    "n_eig=length(avals) #number of equilibrium points\n",
    "\n",
    "maxrealeigs=fill(NaN,n_eig)\n",
    "\n",
    "for i in 1:n_eig\n",
    "    realindx=argmax(realeigs[i]) #finds index of largest real part of eigenvalues for a21 value\n",
    "    maxrealeigs[i]=realeigs[i][realindx] #the largest real part of eigenvalues for the a21 value (needed as largest real part dictates if a point is stable (<0) or unstable (>0))\n",
    "end\n",
    "\n",
    "#Below plots the largest real eigenvalue part for varying parameter a21\n",
    "fig2=Figure()\n",
    "ax2=Axis(fig2[1,1],xlabel=\"a₂₁\",ylabel=\"R(λ)\")\n",
    "lines!(ax2,avals,maxrealeigs)\n",
    "xlims!(ax2,[0.0,5])\n",
    "ylims!(ax2,[-1,1.5])\n",
    "hlines!(ax2,0,linestyle=:dash) #horiztonal line at R(λ)=0 to indicate imagainary axis\n",
    "fig2"
   ]
  },
  {
   "cell_type": "markdown",
   "id": "770c9afe",
   "metadata": {},
   "source": [
    "# Hopf bifurcation"
   ]
  },
  {
   "cell_type": "markdown",
   "id": "3d08b9cc",
   "metadata": {},
   "source": [
    "The eigenvalues of the linearised system determine the equilibrium's stability. A Hopf bifurcation occurs when the stability behaviour changes and a pair of complex conugate eigenvalues of the linearised system crosses the imaginary axis and become purely imaginary, i.e. λ=±ω. We start finding the Hopf parameters by finding the initial guess of the a₂₁ value for the Hopf bifurcation: "
   ]
  },
  {
   "cell_type": "code",
   "execution_count": null,
   "id": "e08cf059",
   "metadata": {},
   "outputs": [],
   "source": [
    "#We aim to find where the eigenvalues cross the imaginary axis (and become purely imaginary )\n",
    "unstab_indx=findfirst(isequal(0.0),stab) #find index of stability change\n",
    "a21unstab=avals[unstab_indx] #initial guess of a21 value for Hopf bifurcation"
   ]
  },
  {
   "cell_type": "code",
   "execution_count": null,
   "id": "ffd8cae6",
   "metadata": {},
   "outputs": [],
   "source": [
    "#Below plots Figure 2 but with the suspected Hopf bifurcation values plotted as well\n",
    "fig3=Figure()\n",
    "ax3=Axis(fig3[1,1],xlabel=\"a₂₁\",ylabel=\"R(λ)\")\n",
    "lines!(ax3,avals,maxrealeigs)\n",
    "xlims!(ax3,[0.0,5])\n",
    "ylims!(ax3,[-1,1.5])\n",
    "hlines!(ax3,0,linestyle=:dash) #horiztonal line at R(λ)=0 to indicate imagainary axis\n",
    "scatter!(ax3,a21unstab,maxrealeigs[unstab_indx],color=:black,marker=:diamond, label=\"Expected Hopf bifurcation\")\n",
    "Legend(fig3[1,2], ax3, merge=true)\n",
    "fig3"
   ]
  },
  {
   "cell_type": "markdown",
   "id": "a000846f",
   "metadata": {},
   "source": [
    "Now we have an initial guess for the Hopf parameters we find the true parameter values:"
   ]
  },
  {
   "cell_type": "code",
   "execution_count": null,
   "id": "b3c85975",
   "metadata": {},
   "outputs": [],
   "source": [
    "yh01,fhopf=create_hopffunc(neuronfunc,neurontau,[k,beta,a12,0,tau1,tau2,taus],xlist1[unstab_indx],[a21unstab],[4],nd) #outputs initial guess of the Hopf bifurcation (including x, ω and a21 estimates) and a function that contians the method/formula to find the Hopf bifurcation\n",
    "println(\"The initial guess for Hopf info: $yh01\")\n",
    "println(\"The initial guess for Hopf info: $yh01\")\n",
    "yh1,conv1,=newton_new(fhopf,yh01) #putting initial guess and Hopf function into newton we get the true parameter values and information for the Hopf bifurcation\n",
    "println(\"The true information for the Hopf bifurcation: $yh1\")\n",
    "println(\"converged?: $conv1\")\n",
    "a_hopf=yh1[end]\n",
    "om_hopf=yh1[end-1]\n",
    "x_hopf=yh1[1:2]\n",
    "println(\"The ω value for hopf bifurcation: $om_hopf\")\n",
    "println(\"The a21 value for hopf bifurcation: $a_hopf\")"
   ]
  },
  {
   "cell_type": "code",
   "execution_count": null,
   "id": "85dfe439",
   "metadata": {},
   "outputs": [],
   "source": [
    "#Below plots Figure 2 but with the true Hopf bifurcation values plotted as well\n",
    "fig4=Figure()\n",
    "ax4=Axis(fig4[1,1],xlabel=\"a₂₁\",ylabel=\"R(λ)\")\n",
    "lines!(ax4,avals,maxrealeigs)\n",
    "xlims!(ax4,[0.0,5])\n",
    "ylims!(ax4,[-1,1.5])\n",
    "hlines!(ax4,0,linestyle=:dash) #horiztonal line at R(λ)=0 to indicate imagainary axis\n",
    "scatter!(ax4,a_hopf,0,color=:black,marker=:diamond, label=\"Hopf\") #true value of Hopf plotted at a=a_hopf and R(λ)=0\n",
    "Legend(fig4[1,2], ax4, merge=true)\n",
    "fig4"
   ]
  },
  {
   "cell_type": "markdown",
   "id": "24eaa715",
   "metadata": {},
   "source": [
    "# Continuation in (a₂₁,τ_s)-plane"
   ]
  },
  {
   "cell_type": "markdown",
   "id": "6c8c6879",
   "metadata": {},
   "source": [
    "We continue the Hopf points in the a₂₁ and τ_s parameter plane:"
   ]
  },
  {
   "cell_type": "code",
   "execution_count": null,
   "id": "66b25617",
   "metadata": {},
   "outputs": [],
   "source": [
    "yheq01,fhopfeq1=create_hopffunc(neuronfunc,neurontau,[k,beta,a12,a_hopf,tau1,tau2,taus],x_hopf,[a_hopf,taus],[4,7],nd) #initialises hopf function and initial guess for a21≈0.8 and tau_s=1.5\n",
    "yheqlist1,heqtan1=track_curve_new(fhopfeq1,yheq01,[0.0,0,0,0,0,0,0,1,-1],nmax=1250) #tracks a21 and tau_s over (a21, tau_s) plane\n",
    "\n",
    "#Plot of continuation/tracking in (a21,tau_s) plane\n",
    "fig5=Figure()\n",
    "ax5=Axis(fig5[1,1],xlabel=\"a₂₁\",ylabel=\"τ_s\")\n",
    "scatter!(ax5,[u[end-1] for u in yheqlist1],[u[end] for u in yheqlist1],color=\"green\",markersize=:7)\n",
    "ylims!(ax5,[1,11])\n",
    "xlims!(ax5,[-0.5,2.5])\n",
    "ax5.xticks=-0.5:0.5:2.5 #creates x-axis increments that match those given in DDE-Biftool (makes comparsion between the two easier)\n",
    "ax5.yticks=1:1:11 #creates y-axs increments that match those given in DDE-Biftool\n",
    "fig5"
   ]
  }
 ],
 "metadata": {
  "kernelspec": {
   "display_name": "Julia 1.11.6",
   "language": "julia",
   "name": "julia-1.11"
  },
  "language_info": {
   "file_extension": ".jl",
   "mimetype": "application/julia",
   "name": "julia",
   "version": "1.11.6"
  }
 },
 "nbformat": 4,
 "nbformat_minor": 5
}
