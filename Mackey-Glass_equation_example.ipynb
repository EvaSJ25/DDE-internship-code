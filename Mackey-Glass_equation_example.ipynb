{
 "cells": [
  {
   "cell_type": "markdown",
   "id": "ad7e6776",
   "metadata": {},
   "source": [
    "## Mackey-Glass equation - 1D example"
   ]
  },
  {
   "cell_type": "code",
   "execution_count": null,
   "id": "fab8d0a2",
   "metadata": {},
   "outputs": [],
   "source": []
  }
 ],
 "metadata": {
  "language_info": {
   "name": "python"
  }
 },
 "nbformat": 4,
 "nbformat_minor": 5
}
