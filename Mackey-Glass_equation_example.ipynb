{
 "cells": [
  {
   "cell_type": "markdown",
   "id": "ad7e6776",
   "metadata": {},
   "source": [
    "## Mackey-Glass equation - 1D example"
   ]
  },
  {
   "cell_type": "code",
   "execution_count": null,
   "id": "fab8d0a2",
   "metadata": {
    "vscode": {
     "languageId": "julia"
    }
   },
   "outputs": [],
   "source": [
    "using CairoMakie\n",
    "using LinearAlgebra\n",
    "include(\"mackeyglassfunc.jl\") #system of Mackey-Glass equation\n",
    "include(\"mackeytau.jl\") #Delay forumla for Mackey-Glass equation\n",
    "include(\"f_deriv.jl\") #used to find state and/or parameter derivatives\n",
    "include(\"jacobian_new.jl\") #Jacobian function\n",
    "include(\"newton_new.jl\") #Newton function\n",
    "include(\"F_eq.jl\") #Initialisates a function to find equilibria \n",
    "include(\"track_curve_new.jl\") #Tracking curve function (used for continuation and equilibria branches)\n",
    "include(\"stab_func.jl\") #finds stability and eigenvalues (and eigenvector and ω is interested in Hopf bifurcation)"
   ]
  }
 ],
 "metadata": {
  "language_info": {
   "name": "python"
  }
 },
 "nbformat": 4,
 "nbformat_minor": 5
}
