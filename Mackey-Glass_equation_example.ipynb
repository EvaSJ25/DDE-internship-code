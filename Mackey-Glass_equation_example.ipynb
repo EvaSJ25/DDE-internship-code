{
 "cells": [
  {
   "cell_type": "markdown",
   "id": "ad7e6776",
   "metadata": {},
   "source": [
    "## Mackey-Glass equation - 1D example"
   ]
  },
  {
   "cell_type": "code",
   "execution_count": 2,
   "id": "fab8d0a2",
   "metadata": {},
   "outputs": [
    {
     "data": {
      "text/plain": [
       "stab_func (generic function with 1 method)"
      ]
     },
     "metadata": {},
     "output_type": "display_data"
    }
   ],
   "source": [
    "using CairoMakie\n",
    "using LinearAlgebra\n",
    "include(\"mackeyglassfunc.jl\") #system of Mackey-Glass equation\n",
    "include(\"mackeytau.jl\") #Delay forumla for Mackey-Glass equation\n",
    "include(\"f_deriv.jl\") #used to find state and/or parameter derivatives\n",
    "include(\"jacobian_new.jl\") #Jacobian function\n",
    "include(\"newton_new.jl\") #Newton function\n",
    "include(\"F_eq.jl\") #Initialisates a function to find equilibria \n",
    "include(\"track_curve_new.jl\") #Tracking curve function (used for continuation and equilibria branches)\n",
    "include(\"stab_func.jl\") #finds stability and eigenvalues (and eigenvector and ω is interested in Hopf bifurcation)"
   ]
  },
  {
   "cell_type": "code",
   "execution_count": null,
   "id": "be5d4b96",
   "metadata": {},
   "outputs": [
    {
     "data": {
      "text/plain": [
       "([[1.0, 0.0], [-1.262177448353619e-29, 0.01], [2.802596928649634e-45, 0.02], [-6.223015277861142e-61, 0.03], [1.3817869688151111e-76, 0.04], [-3.068183415811079e-92, 0.05], [6.812735744013041e-108, 0.060000000000000005], [-1.512731216738015e-123, 0.07], [3.3589380537835444e-139, 0.08], [-7.458340731200207e-155, 0.09]  …  [0.0, 9.909999999999833], [0.0, 9.919999999999833], [0.0, 9.929999999999833], [0.0, 9.939999999999833], [0.0, 9.949999999999832], [0.0, 9.959999999999832], [0.0, 9.969999999999832], [0.0, 9.979999999999832], [0.0, 9.989999999999831], [0.0, 9.999999999999831]], [-0.0, 1.0])"
      ]
     },
     "metadata": {},
     "output_type": "display_data"
    }
   ],
   "source": [
    "gamma=1.0\n",
    "#initial states for following parameters (obtained from DDE-Biftool example)\n",
    "beta=2\n",
    "n=10\n",
    "tau=0\n",
    "x0=(beta-1)^(1/n) #obtained from DDE-Biftool demo\n",
    "nd=1 #one delay\n",
    "\n",
    "y01,feq=F_eq(mackeyglassfunc,x0, [gamma,beta,n,tau],nd, par_indx=4)#par_indx=2)\n",
    "\n",
    "ylist1,ytan1=track_curve_new(feq,y01,[0.0,1],nmax=1000)\n"
   ]
  }
 ],
 "metadata": {
  "kernelspec": {
   "display_name": "Julia 1.11.6",
   "language": "julia",
   "name": "julia-1.11"
  },
  "language_info": {
   "file_extension": ".jl",
   "mimetype": "application/julia",
   "name": "julia",
   "version": "1.11.6"
  }
 },
 "nbformat": 4,
 "nbformat_minor": 5
}
